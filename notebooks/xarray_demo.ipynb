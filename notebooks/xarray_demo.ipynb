{
 "cells": [
  {
   "cell_type": "markdown",
   "metadata": {},
   "source": [
    "# Xarray: a very short demo\n",
    "\n",
    "Xarray provides handy Python objects for dealing with a set of 1-d, 2-d, 3-d, n-dimensional arrays that share common dimensions (those may have a physical meaning).\n",
    "\n",
    "Think like a netCDF file loaded as a Python object with many capabilities...\n",
    "\n",
    "![Xarray data model](assets/xarray-dataset-diagram.png \"Xarray data model\")\n",
    "\n",
    "(https://xarray.pydata.org)\n",
    "\n",
    "---"
   ]
  },
  {
   "cell_type": "markdown",
   "metadata": {},
   "source": [
    "Let's import xarray and numpy..."
   ]
  },
  {
   "cell_type": "code",
   "execution_count": null,
   "metadata": {},
   "outputs": [],
   "source": [
    "import xarray as xr\n",
    "import numpy as np"
   ]
  },
  {
   "cell_type": "markdown",
   "metadata": {},
   "source": [
    "Let's load some data as a `xarray.Dataset` object...\n"
   ]
  },
  {
   "cell_type": "code",
   "execution_count": null,
   "metadata": {},
   "outputs": [],
   "source": [
    "ds = xr.tutorial.load_dataset('air_temperature')\n",
    "\n",
    "ds"
   ]
  },
  {
   "cell_type": "markdown",
   "metadata": {},
   "source": [
    "## Xarray wraps numpy arrays..."
   ]
  },
  {
   "cell_type": "code",
   "execution_count": null,
   "metadata": {},
   "outputs": [],
   "source": [
    "# the `ds.air.data` property here returns the underlying numpy array for `air` variable.\n",
    "\n",
    "arr = ds.air.data"
   ]
  },
  {
   "cell_type": "code",
   "execution_count": null,
   "metadata": {},
   "outputs": [],
   "source": [
    "#arr"
   ]
  },
  {
   "cell_type": "markdown",
   "metadata": {},
   "source": [
    "## ...with labels and metadata! Way less error-prone!\n",
    "\n",
    "Example: select (slice) the array at a given latitude of 50 degrees"
   ]
  },
  {
   "cell_type": "code",
   "execution_count": null,
   "metadata": {},
   "outputs": [],
   "source": [
    "# numpy: we need to know that latitude is the 2nd axis\n",
    "#        and that 50 degrees is the 11th element on that axis\n",
    "#\n",
    "# --> error-prone!\n",
    "\n",
    "arr[:, 10, :]"
   ]
  },
  {
   "cell_type": "code",
   "execution_count": null,
   "metadata": {},
   "outputs": [],
   "source": [
    "# xarray: just use labels!\n",
    "\n",
    "ds.sel(lat=50)"
   ]
  },
  {
   "cell_type": "markdown",
   "metadata": {},
   "source": [
    "Example: compute the mean along the latitude axis"
   ]
  },
  {
   "cell_type": "code",
   "execution_count": null,
   "metadata": {},
   "outputs": [],
   "source": [
    "# numpy: we need to know that latitude is the 2nd axis\n",
    "#        in the returned result, it is hard to know\n",
    "#        which axis is time and which one is longitude\n",
    "\n",
    "arr.mean(axis=1)"
   ]
  },
  {
   "cell_type": "code",
   "execution_count": null,
   "metadata": {},
   "outputs": [],
   "source": [
    "# xarray: just use labels!\n",
    "\n",
    "ds.air.mean(dim='lat')"
   ]
  },
  {
   "cell_type": "code",
   "execution_count": null,
   "metadata": {},
   "outputs": [],
   "source": []
  },
  {
   "cell_type": "markdown",
   "metadata": {},
   "source": [
    "## Xarray integrates well with numpy\n",
    "\n",
    "Wait, we can use a Numpy function with an Xarray object and it returns an Xarray object? Where is the magic?"
   ]
  },
  {
   "cell_type": "code",
   "execution_count": null,
   "metadata": {},
   "outputs": [],
   "source": [
    "np.mean(ds.air, axis=1)"
   ]
  },
  {
   "cell_type": "markdown",
   "metadata": {},
   "source": [
    "Advantage:\n",
    "\n",
    "- Reuse the same code with different array libraries having their specific implementation of arrays (e.g., with data stored in RAM memory, or on in distributed memory, or with computation run on a CPU, GPU, etc.)\n",
    "- Use those libraries together -> interoperability!\n",
    "\n",
    "More info on how it is possible: https://numpy.org/neps/nep-0018-array-function-protocol.html"
   ]
  },
  {
   "cell_type": "code",
   "execution_count": null,
   "metadata": {},
   "outputs": [],
   "source": []
  },
  {
   "cell_type": "markdown",
   "metadata": {},
   "source": [
    "## There is more: Xarray integrates well with Dask"
   ]
  },
  {
   "cell_type": "code",
   "execution_count": null,
   "metadata": {},
   "outputs": [],
   "source": [
    "# recall the dataset loaded above\n",
    "\n",
    "ds"
   ]
  },
  {
   "cell_type": "markdown",
   "metadata": {},
   "source": [
    "Let's cut the arrays (data variables) in the dataset into multiple blocks (chunks)"
   ]
  },
  {
   "cell_type": "code",
   "execution_count": null,
   "metadata": {},
   "outputs": [],
   "source": [
    "# create chunks along the time dimension, each having 500 elements along that dimension\n",
    "\n",
    "dsd = ds.chunk({'time': 500})\n",
    "\n",
    "dsd"
   ]
  },
  {
   "cell_type": "markdown",
   "metadata": {},
   "source": [
    "Computing the mean along the latitude axis... returns another Dask array..."
   ]
  },
  {
   "cell_type": "code",
   "execution_count": null,
   "metadata": {},
   "outputs": [],
   "source": [
    "dsd.air.mean(dim='lat')"
   ]
  },
  {
   "cell_type": "markdown",
   "metadata": {},
   "source": [
    "This Dask array does not contain any actual value (\"lazy array\"). Instead, it contains a graph of computing tasks that can be executed in parallel."
   ]
  },
  {
   "cell_type": "code",
   "execution_count": null,
   "metadata": {},
   "outputs": [],
   "source": [
    "dsd.air.mean(dim='lat').data.visualize()"
   ]
  },
  {
   "cell_type": "markdown",
   "metadata": {},
   "source": [
    "We need to call `.compute()` to trigger the computation of the graph of tasks and get the actual values"
   ]
  },
  {
   "cell_type": "code",
   "execution_count": null,
   "metadata": {},
   "outputs": [],
   "source": [
    "dsd.air.mean(dim='lat').compute()"
   ]
  },
  {
   "cell_type": "markdown",
   "metadata": {},
   "source": [
    "Let's see different execution times.\n",
    "\n",
    "Here is the reference computation time based on the numpy array (not chunked):"
   ]
  },
  {
   "cell_type": "code",
   "execution_count": null,
   "metadata": {},
   "outputs": [],
   "source": [
    "%timeit ds.air.mean(dim='lat')"
   ]
  },
  {
   "cell_type": "markdown",
   "metadata": {},
   "source": [
    "Here, a graph of computation tasks is built by Dask. This is very cheap compared to the reference time above."
   ]
  },
  {
   "cell_type": "code",
   "execution_count": null,
   "metadata": {},
   "outputs": [],
   "source": [
    "%timeit dsd.air.mean(dim='lat')"
   ]
  },
  {
   "cell_type": "markdown",
   "metadata": {},
   "source": [
    "Here, the Dask graph is computed. We get some speed-up due to parallel execution, although not a great speedup since parallel computation introduces some overhead and in this case the amount of data is quite small.\n",
    "\n",
    "Note: the execution time may depend on different things (e.g., which hardware this notebook is run, the chosen Dask scheduler and how it is configured). For example, the `distributed` scheduler may introduce some overhead, but it comes with a visual dashboard with useful diagnostics. For more info, see https://docs.dask.org/en/latest/scheduling.html."
   ]
  },
  {
   "cell_type": "code",
   "execution_count": null,
   "metadata": {},
   "outputs": [],
   "source": [
    "%timeit dsd.air.mean(dim='lat').compute()"
   ]
  },
  {
   "cell_type": "code",
   "execution_count": null,
   "metadata": {},
   "outputs": [],
   "source": [
    "%timeit dsd.air.mean(dim='lat').compute(scheduler='threads')"
   ]
  },
  {
   "cell_type": "markdown",
   "metadata": {},
   "source": [
    "## Both Xarray and Dask can nicely play together with numpy\n",
    "\n",
    "So we can use a `numpy` function with an Xarray object that wrap Dask arrays... and return Xarray objects that wrap Dask arrays?"
   ]
  },
  {
   "cell_type": "code",
   "execution_count": null,
   "metadata": {},
   "outputs": [],
   "source": [
    "np.sqrt(dsd)"
   ]
  },
  {
   "cell_type": "code",
   "execution_count": null,
   "metadata": {},
   "outputs": [],
   "source": []
  },
  {
   "cell_type": "markdown",
   "metadata": {},
   "source": [
    "## Xarray has powerful plotting capabilities built on top of matplotlib"
   ]
  },
  {
   "cell_type": "markdown",
   "metadata": {},
   "source": [
    "Example: plot time series at a given location:"
   ]
  },
  {
   "cell_type": "code",
   "execution_count": null,
   "metadata": {},
   "outputs": [],
   "source": [
    "# note the matplotlib tick, axis labels and title automatically generated from metadata\n",
    "\n",
    "ds.air.sel(lat=50, lon=225).plot();"
   ]
  },
  {
   "cell_type": "markdown",
   "metadata": {},
   "source": [
    "Or plot time series at multiple locations:"
   ]
  },
  {
   "cell_type": "code",
   "execution_count": null,
   "metadata": {},
   "outputs": [],
   "source": [
    "# xarray is smart enough that we want to plot time series at three locations (note the automatic legend)\n",
    "\n",
    "ds.air.sel(lat=[50, 55, 60], lon=225).plot.line(x=\"time\");"
   ]
  },
  {
   "cell_type": "markdown",
   "metadata": {},
   "source": [
    "A more advanced example: compute seasonal averages and make a facet plot"
   ]
  },
  {
   "cell_type": "code",
   "execution_count": null,
   "metadata": {},
   "outputs": [],
   "source": [
    "ds.air.groupby('time.season').mean().plot(x=\"lon\", y=\"lat\", col=\"season\", col_wrap=2);"
   ]
  },
  {
   "cell_type": "code",
   "execution_count": null,
   "metadata": {},
   "outputs": [],
   "source": []
  },
  {
   "cell_type": "markdown",
   "metadata": {},
   "source": [
    "## Xarray integrates well with some libraries for interactive visualization\n",
    "\n",
    "Example with Holoviews/HvPlot:"
   ]
  },
  {
   "cell_type": "code",
   "execution_count": null,
   "metadata": {},
   "outputs": [],
   "source": [
    "import hvplot.xarray"
   ]
  },
  {
   "cell_type": "code",
   "execution_count": null,
   "metadata": {},
   "outputs": [],
   "source": [
    "ds.air.hvplot.image(groupby='time', frame_width=400, frame_height=400)"
   ]
  },
  {
   "cell_type": "code",
   "execution_count": null,
   "metadata": {},
   "outputs": [],
   "source": [
    "ds.time.data"
   ]
  },
  {
   "cell_type": "code",
   "execution_count": null,
   "metadata": {},
   "outputs": [],
   "source": [
    "(ds.air\n",
    " .sel(lat=[50, 60, 70])\n",
    " .hvplot.line(x='lon', y='air', groupby='time', by='lat')\n",
    ")"
   ]
  },
  {
   "cell_type": "code",
   "execution_count": null,
   "metadata": {},
   "outputs": [],
   "source": []
  }
 ],
 "metadata": {
  "kernelspec": {
   "display_name": "Python 3",
   "language": "python",
   "name": "python3"
  },
  "language_info": {
   "codemirror_mode": {
    "name": "ipython",
    "version": 3
   },
   "file_extension": ".py",
   "mimetype": "text/x-python",
   "name": "python",
   "nbconvert_exporter": "python",
   "pygments_lexer": "ipython3",
   "version": "3.8.10"
  }
 },
 "nbformat": 4,
 "nbformat_minor": 4
}
