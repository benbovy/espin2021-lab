{
 "cells": [
  {
   "cell_type": "markdown",
   "id": "ba0bd7c9-b48f-4a94-b647-251eeeb9d504",
   "metadata": {},
   "source": [
    "# Xarray hands-on exercises"
   ]
  },
  {
   "cell_type": "code",
   "execution_count": null,
   "id": "7a175989-438c-425f-b8fd-3604aa3e21d6",
   "metadata": {},
   "outputs": [],
   "source": [
    "import sys\n",
    "sys.path.append(\"..\")\n",
    "\n",
    "import numpy as np\n",
    "import matplotlib.pyplot as plt\n",
    "import xarray as xr\n",
    "import hvplot.xarray\n",
    "import rioxarray\n",
    "import zarr\n",
    "from ipyleaflet import Map, basemaps, DrawControl, LayersControl\n",
    "from ipyfastscape import TopoViz3d\n",
    "\n",
    "from utils import extract_dem, run_fastscape_model"
   ]
  },
  {
   "cell_type": "markdown",
   "id": "c3c0907d-045a-41b3-a541-9c2b0b474349",
   "metadata": {},
   "source": [
    "## Let's get some topographic data\n",
    "\n",
    "Using an interactive map ([ipyleaflet](https://ipyleaflet.readthedocs.io)) to delimit a ROI, using the [bmi-topography](https://github.com/csdms/bmi-topography) package to download and extract elevation data (SRTM), and using [rioxarray](https://corteva.github.io/rioxarray/) to re-project the data from lat/lon to UTM."
   ]
  },
  {
   "cell_type": "code",
   "execution_count": null,
   "id": "e7ef65cd-2cbd-476d-8423-abd52ba36057",
   "metadata": {},
   "outputs": [],
   "source": [
    "m = Map(basemap=basemaps.OpenTopoMap, center=[40, -105], zoom=11)\n",
    "\n",
    "draw_control = DrawControl()\n",
    "draw_control.polygon = {}\n",
    "#draw_control.polyline = {}\n",
    "draw_control.circlemarker = {}\n",
    "draw_control.rectangle = {\n",
    "    'shapeOptions': {\n",
    "        'fillOpacity': 0.5\n",
    "    }\n",
    "}\n",
    "m.add_control(draw_control)\n",
    "\n",
    "layers_control = LayersControl(position='topright')\n",
    "m.add_control(layers_control)\n",
    "    \n",
    "m"
   ]
  },
  {
   "cell_type": "code",
   "execution_count": null,
   "id": "f1d2ee52-b9fe-4b1c-ac3c-257cbff49ab1",
   "metadata": {},
   "outputs": [],
   "source": [
    "def load_dem_from_map():\n",
    "    \"\"\"This will load DEM data using the last rectangle drawn on the map as ROI.\n",
    "    \n",
    "    Returns a new :class:`xarray.Dataset`.\n",
    "    \n",
    "    \"\"\"\n",
    "    last_draw = draw_control.last_draw['geometry']\n",
    "    if last_draw is not None:\n",
    "        roi = last_draw['coordinates'][0]\n",
    "        lon, lat = list(zip(*roi))\n",
    "        dem = extract_dem(north=max(lat), south=min(lat), east=max(lon), west=min(lon)).squeeze()\n",
    "    else:\n",
    "        dem = extract_dem().squeeze()\n",
    "        \n",
    "    projected = dem.rio.reproject(dem.rio.estimate_utm_crs()).isel(x=slice(2, -2), y=slice(2, -2))\n",
    "    projected.attrs.pop(\"_FillValue\")\n",
    "    \n",
    "    return projected"
   ]
  },
  {
   "cell_type": "code",
   "execution_count": null,
   "id": "301c9d52-d5d0-43ec-8ad6-94c3df390711",
   "metadata": {},
   "outputs": [],
   "source": [
    "dem = load_dem_from_map()"
   ]
  },
  {
   "cell_type": "code",
   "execution_count": null,
   "id": "841bb69d-7723-4085-b6ed-cb494d531f16",
   "metadata": {},
   "outputs": [],
   "source": [
    "dem"
   ]
  },
  {
   "cell_type": "code",
   "execution_count": null,
   "id": "95e58cbb-e8f7-46ef-9c42-579ba79c31f8",
   "metadata": {},
   "outputs": [],
   "source": [
    "dem.plot(cmap=\"terrain\", size=8, aspect=1);"
   ]
  },
  {
   "cell_type": "markdown",
   "id": "ae35f17b-3084-4970-ac41-874e2920db35",
   "metadata": {},
   "source": [
    "## Exercise 1: cross-sections\n",
    "\n",
    "Extract and plot one or several cross-sections along the `x` or `y` axis.\n",
    "\n",
    "Hints:\n",
    "\n",
    "- use Xarray's `sel()` or `isel()`\n",
    "- see Xarray's [plotting guide](http://xarray.pydata.org/en/stable/user-guide/plotting.html)"
   ]
  },
  {
   "cell_type": "code",
   "execution_count": null,
   "id": "88138603-6445-4ad5-b0e4-fcfde3cc5cd4",
   "metadata": {},
   "outputs": [],
   "source": [
    "dem.sel(y=4.43e6, method='nearest').plot();"
   ]
  },
  {
   "cell_type": "code",
   "execution_count": null,
   "id": "52279429-f9a9-4426-962e-45b238c369c7",
   "metadata": {},
   "outputs": [],
   "source": [
    "dem.sel(y=[4.43e6, 4.44e6], method='nearest').plot.line(hue='y');"
   ]
  },
  {
   "cell_type": "markdown",
   "id": "2f952f19-8b81-42f5-a766-ed7d4e68a0f4",
   "metadata": {},
   "source": [
    "Create an interactive figure using `hvplot` where the position of the cross-section can be controlled with a slider"
   ]
  },
  {
   "cell_type": "code",
   "execution_count": null,
   "id": "32b7ab5b-ed0c-411a-8c5f-fe3f0bd19fd7",
   "metadata": {},
   "outputs": [],
   "source": [
    "dem.hvplot.line()"
   ]
  },
  {
   "cell_type": "markdown",
   "id": "e05f01b2-b8be-4897-8c1e-79bac151f159",
   "metadata": {},
   "source": [
    "Extract a topographic profile given along a custom polyline defined from (`x`, `y`) points. Bonus: Draw a polyline on the map above and get its coordinates.\n",
    "\n",
    "Hints:\n",
    "\n",
    "- Use Xarray's [advanced indexing](http://xarray.pydata.org/en/stable/user-guide/indexing.html#more-advanced-indexing) (pointwise selection)"
   ]
  },
  {
   "cell_type": "code",
   "execution_count": null,
   "id": "1be2b5bb-ab27-49a8-8ca0-dfec89ab2f13",
   "metadata": {},
   "outputs": [],
   "source": [
    "x = np.linspace(dem.x.min() + 300, dem.x.max() - 300, 50) + np.random.uniform(-300, 300, 50) \n",
    "y = np.linspace(dem.y.min() + 300, dem.y.max() - 300, 50) + np.random.uniform(-300, 300, 50)"
   ]
  },
  {
   "cell_type": "code",
   "execution_count": null,
   "id": "c8ee5cdf-cd05-4e83-84bd-3f58aa739fa4",
   "metadata": {},
   "outputs": [],
   "source": [
    "sel_points = dem.sel(x=xr.DataArray(x, dims='points'), y=xr.DataArray(y, dims='points'), method='nearest')\n",
    "\n",
    "sel_points"
   ]
  },
  {
   "cell_type": "code",
   "execution_count": null,
   "id": "b00faac7-dd17-4077-82e1-b6b13f91a073",
   "metadata": {},
   "outputs": [],
   "source": [
    "fig, ax = plt.subplots(figsize=(8, 8))\n",
    "\n",
    "dem.plot(ax=ax, cmap=\"terrain\")\n",
    "plt.plot(sel_points.x, sel_points.y, color=\"red\")\n",
    "ax.set_aspect(\"equal\");"
   ]
  },
  {
   "cell_type": "code",
   "execution_count": null,
   "id": "875e63d1-454b-4c27-ad45-001f800e0f4f",
   "metadata": {},
   "outputs": [],
   "source": [
    "from pyproj import Proj, Transformer\n",
    "\n",
    "\n",
    "transformer = Transformer.from_crs(\"EPSG:4326\", dem.rio.crs, always_xy=True)\n",
    "\n",
    "\n",
    "def sel_points_from_map():\n",
    "    last_draw = draw_control.last_draw[\"geometry\"]\n",
    "    \n",
    "    if last_draw is not None:\n",
    "        utm_x, utm_y = list(zip(*[transformer.transform(*lonlat) for lonlat in last_draw[\"coordinates\"]]))\n",
    "        da_x = xr.DataArray(np.array(utm_x), dims=\"points\")\n",
    "        da_y = xr.DataArray(np.array(utm_y), dims=\"points\")\n",
    "        \n",
    "        return dem.sel(x=da_x, y=da_y, method=\"nearest\")\n",
    "    \n",
    "    # return None if no line has been drawn on the map\n",
    "    return None\n"
   ]
  },
  {
   "cell_type": "code",
   "execution_count": null,
   "id": "a02221a9-8854-4f6f-b474-9510b1499c3f",
   "metadata": {},
   "outputs": [],
   "source": [
    "sel_points = sel_points_from_map()\n",
    "\n",
    "sel_points"
   ]
  },
  {
   "cell_type": "markdown",
   "id": "7478a657-b32a-411b-a3b8-73b317d19bd0",
   "metadata": {},
   "source": [
    "## Exercise 2: swath profiles\n",
    "\n",
    "Extract and plot the mean/median/min/max elevation along the `x` or `y` axis. Bonus: gather all statistics into a single `xarray.DataArray` object and plot all the profiles with a legend using Xarray plotting methods.\n",
    "\n",
    "Hints:\n",
    "\n",
    "- use Xarray's [aggregation methods](http://xarray.pydata.org/en/stable/user-guide/computation.html#aggregation)\n",
    "- See Xarray's [concatenate](http://xarray.pydata.org/en/stable/user-guide/combining.html#concatenate)"
   ]
  },
  {
   "cell_type": "code",
   "execution_count": null,
   "id": "270dda65-5a2d-4bd0-823a-30927ff89b23",
   "metadata": {},
   "outputs": [],
   "source": [
    "stats = [\"min\", \"max\", \"mean\", \"median\"]\n",
    "\n",
    "swath_x = [\n",
    "    dem.min(dim=\"x\"),\n",
    "    dem.max(dim=\"x\"),\n",
    "    dem.mean(dim=\"x\"),\n",
    "    dem.median(dim=\"x\"),\n",
    "]\n",
    "\n",
    "\n",
    "da = xr.concat(swath_x, \"stat\").assign_coords(stat=stats).plot(hue=\"stat\")"
   ]
  },
  {
   "cell_type": "markdown",
   "id": "88da708c-2c30-49ef-bdde-5bcb2badf6e3",
   "metadata": {},
   "source": [
    "## Exercise 3: Compute terrain derivatives\n",
    "\n",
    "Compute and plot terrain slope using the following formula:\n",
    "\n",
    "$$ s = \\arctan \\left( \\sqrt{\\frac{\\partial{z}}{\\partial{x}}^2 + \\frac{\\partial{z}}{\\partial{y}}^2} \\right) $$\n",
    "\n",
    "For simplicity, let's ignore the diagonal DEM grid neighbors in the computation of the partial derivatives. Convert the values in degrees.\n",
    "\n",
    "Hints:\n",
    "\n",
    "- Look at Xarray's [differentiate](http://xarray.pydata.org/en/stable/generated/xarray.DataArray.differentiate.html#xarray.DataArray.differentiate)"
   ]
  },
  {
   "cell_type": "code",
   "execution_count": null,
   "id": "8f8e8c4b-3b3b-4c27-bb78-5823a2122b8c",
   "metadata": {},
   "outputs": [],
   "source": [
    "slope = np.rad2deg(np.arctan(np.sqrt(dem.differentiate(\"x\")**2 + dem.differentiate(\"y\")**2)))\n",
    "\n",
    "fig, ax = plt.subplots(figsize=(8, 8))\n",
    "\n",
    "slope.plot(ax=ax, vmax=15);\n",
    "ax.set_aspect(\"equal\")"
   ]
  },
  {
   "cell_type": "markdown",
   "id": "bc7f0227-5715-45e0-a1dd-c593230f8090",
   "metadata": {},
   "source": [
    "## Let's run a landscape evolution model\n",
    "\n",
    "In the example below we use [fastscape](https://github.com/fastscape-lem/fastscape) but the same exercises could be done from Landlab simulations as it also has an Xarray interface.  "
   ]
  },
  {
   "cell_type": "code",
   "execution_count": null,
   "id": "613c4929-e665-4ca5-9c01-ed5f65c80178",
   "metadata": {},
   "outputs": [],
   "source": [
    "from dask.distributed import Client, LocalCluster\n",
    "cluster = LocalCluster(threads_per_worker=1)\n",
    "client = Client(cluster)"
   ]
  },
  {
   "cell_type": "code",
   "execution_count": null,
   "id": "96f38e51-49be-4ba0-b996-7e31a1e8dfe0",
   "metadata": {},
   "outputs": [],
   "source": [
    "client"
   ]
  },
  {
   "cell_type": "code",
   "execution_count": null,
   "id": "5fe550ca-b007-4627-9800-9a253f2024d8",
   "metadata": {},
   "outputs": [],
   "source": [
    "model_out = run_fastscape_model(dem, client, store=\"out.zarr\")"
   ]
  },
  {
   "cell_type": "code",
   "execution_count": null,
   "id": "f1ac5b38-8dc7-4bef-ab65-bd1a1c227310",
   "metadata": {},
   "outputs": [],
   "source": [
    "zdataset = zarr.open(\"out.zarr\")"
   ]
  },
  {
   "cell_type": "code",
   "execution_count": null,
   "id": "0f23d47f-620c-4ca4-8bcb-60f8ccc02ac0",
   "metadata": {},
   "outputs": [],
   "source": [
    "zdataset.info"
   ]
  },
  {
   "cell_type": "code",
   "execution_count": null,
   "id": "d80aedfc-2060-4744-ba09-5bb8e49187e5",
   "metadata": {},
   "outputs": [],
   "source": [
    "zdataset.topography__elevation.info"
   ]
  },
  {
   "cell_type": "code",
   "execution_count": null,
   "id": "ee75e2a5-7323-48f1-b545-573b5e4f8c57",
   "metadata": {},
   "outputs": [],
   "source": [
    "model_out"
   ]
  },
  {
   "cell_type": "markdown",
   "id": "bfe9b7d5-5d02-465c-873c-aa3222b9fcbe",
   "metadata": {},
   "source": [
    "## Exercise 4\n",
    "\n",
    "Re-do exercises 1-3 but using the model output dataset (`topography__elevation` variable)."
   ]
  },
  {
   "cell_type": "code",
   "execution_count": null,
   "id": "6ee19b7f-cedf-4f46-98e7-7b8a36c64c40",
   "metadata": {},
   "outputs": [],
   "source": [
    "topo = model_out.topography__elevation\n",
    "\n",
    "slope = np.rad2deg(np.arctan(np.sqrt(topo.differentiate(\"x\")**2 + topo.differentiate(\"y\")**2)))\n",
    "\n",
    "slope"
   ]
  },
  {
   "cell_type": "code",
   "execution_count": null,
   "id": "7c2e6441-a373-45a3-812e-d01f161e9492",
   "metadata": {},
   "outputs": [],
   "source": [
    "slope.hvplot.image(\n",
    "    x=\"x\", y=\"y\", groupby=['batch', 'out'], cmap=\"viridis\", data_aspect=1\n",
    ").opts(clim=(0, 14))"
   ]
  },
  {
   "cell_type": "code",
   "execution_count": null,
   "id": "e388b713-dfba-45ff-94a8-b5bc8b86ee40",
   "metadata": {},
   "outputs": [],
   "source": []
  },
  {
   "cell_type": "markdown",
   "id": "09f51ea5-fbb2-4708-99b7-711704444fb0",
   "metadata": {},
   "source": [
    "## Exercise 5: Slope-Area plot\n",
    "\n",
    "Plot slope vs. area relationship for one simulation and one time step. Bonus 1: make an interactive plot with `hvplot` for all simulations and all timesteps. Bonus 2: do not plot model grid nodes with a drainage area value under a given threshold. "
   ]
  },
  {
   "cell_type": "code",
   "execution_count": null,
   "id": "78f60eed-d050-4690-be97-545b94a29dc3",
   "metadata": {},
   "outputs": [],
   "source": [
    "fig, ax = plt.subplots()\n",
    "\n",
    "model_out.assign(slope=slope).isel(out=-1, batch=-1).plot.scatter(x='drainage__area', y='slope', ax=ax, alpha=0.2)\n",
    "\n",
    "ax.loglog();"
   ]
  },
  {
   "cell_type": "code",
   "execution_count": null,
   "id": "1048f66c-85e2-4ab8-b1df-45479ef5a2b5",
   "metadata": {},
   "outputs": [],
   "source": []
  }
 ],
 "metadata": {
  "kernelspec": {
   "display_name": "Python 3",
   "language": "python",
   "name": "python3"
  },
  "language_info": {
   "codemirror_mode": {
    "name": "ipython",
    "version": 3
   },
   "file_extension": ".py",
   "mimetype": "text/x-python",
   "name": "python",
   "nbconvert_exporter": "python",
   "pygments_lexer": "ipython3",
   "version": "3.8.10"
  }
 },
 "nbformat": 4,
 "nbformat_minor": 5
}
