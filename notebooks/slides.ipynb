{
 "cells": [
  {
   "cell_type": "markdown",
   "metadata": {
    "slideshow": {
     "slide_type": "slide"
    }
   },
   "source": [
    "# Python Array and Visualization Libraries\n",
    "\n",
    "Beyond Numpy and Matplotlib"
   ]
  },
  {
   "cell_type": "markdown",
   "metadata": {
    "slideshow": {
     "slide_type": "slide"
    }
   },
   "source": [
    "## About me\n",
    "\n",
    "<img src=\"assets/me.jpg\" alt=\"me\" width=\"150\"/>"
   ]
  },
  {
   "cell_type": "markdown",
   "metadata": {
    "slideshow": {
     "slide_type": "fragment"
    }
   },
   "source": [
    "- Graduated in physical geography / geomatics\n",
    "    - Coding, mainly for fun"
   ]
  },
  {
   "cell_type": "markdown",
   "metadata": {
    "slideshow": {
     "slide_type": "fragment"
    }
   },
   "source": [
    "- PhD in geomorphology (landscape evolution modelling)\n",
    "    - Coding to get the science done (... a lot of procrastination too)"
   ]
  },
  {
   "cell_type": "markdown",
   "metadata": {
    "slideshow": {
     "slide_type": "fragment"
    }
   },
   "source": [
    "- PostDoc in atmospheric science\n",
    "    - Developing software for scientific research, although not \"officially\"\n",
    "    - Started contributing to Python scientific libraries (Xarray)"
   ]
  },
  {
   "cell_type": "markdown",
   "metadata": {
    "slideshow": {
     "slide_type": "fragment"
    }
   },
   "source": [
    "- Research software engineer\n",
    "  - Now that's official\n",
    "  - 2 years at GFZ-Potsdam, now self-employed (GFZ, GEOMAR, ULiège, NumFOCUS...)"
   ]
  },
  {
   "cell_type": "markdown",
   "metadata": {
    "slideshow": {
     "slide_type": "slide"
    }
   },
   "source": [
    "## Outline\n",
    "\n",
    "How does look like the Python scientific ecosystem?\n",
    "\n",
    "- Focus on array librairies and visualization libraries\n",
    "\n",
    "What can we do with it?\n",
    "\n",
    "- Examples using the Xarray library (+ Dask, Zarr, HvPlot, etc.)\n",
    "\n",
    "How challenging it is for users to learn / leverage it?\n",
    "\n",
    "- Some advice.."
   ]
  },
  {
   "cell_type": "markdown",
   "metadata": {
    "slideshow": {
     "slide_type": "slide"
    }
   },
   "source": [
    "## The Python scientific stack\n",
    "\n",
    "### Core libraries vs. domain-specific libraries\n",
    "\n",
    "<br>\n",
    "<img src=\"assets/python-scientific-stack.png\" alt=\"python scientific stack\" width=500 />\n",
    "\n",
    "(modified from Jake VanderPlas PyCon 2017)"
   ]
  },
  {
   "cell_type": "markdown",
   "metadata": {
    "slideshow": {
     "slide_type": "slide"
    }
   },
   "source": [
    "## Core libraries: beyond NumPy and Matplotlib...\n",
    "\n",
    "A lot of new tools for tackling recent problems or leverage recent technologies:\n",
    "\n",
    "- Big data\n",
    "- CPU vs. GPU (vs. TPU)\n",
    "- Laptop vs. HPC vs. Cloud\n",
    "- Interactive computing, modern web technologies\n",
    "- Reproducibility, Collaborative research\n",
    "- ...\n",
    "\n",
    "\n",
    "Mainly driven by the emergence of data science... but why couldn't we (modellers, geoscientists) benefit from it too?"
   ]
  },
  {
   "cell_type": "markdown",
   "metadata": {
    "slideshow": {
     "slide_type": "slide"
    }
   },
   "source": [
    "## Array libraries\n",
    "\n",
    "<br><br>\n",
    "\n",
    "<img src=\"assets/array-libraries.png\" alt=\"array libraries\"/>\n",
    "\n",
    "(https://numpy.org)"
   ]
  },
  {
   "cell_type": "markdown",
   "metadata": {
    "slideshow": {
     "slide_type": "slide"
    }
   },
   "source": [
    "## Scientific visualization libraries\n",
    "\n",
    "<br>\n",
    "<img src=\"assets/pyviz-libraries.png\" alt=\"python viz libraries\" width=1600 />\n",
    "\n",
    "(https://pyviz.org)"
   ]
  },
  {
   "cell_type": "markdown",
   "metadata": {
    "slideshow": {
     "slide_type": "slide"
    }
   },
   "source": [
    "## Xarray"
   ]
  },
  {
   "cell_type": "markdown",
   "metadata": {
    "slideshow": {
     "slide_type": "slide"
    }
   },
   "source": [
    "## Another way to look at the Python scientific ecosystem\n",
    "\n",
    "Messy (organically evolving)\n",
    "\n",
    "<br>\n",
    "<img src=\"assets/python-install-xkcd.png\" alt=\"python-install-xkcd\" width=400 />\n",
    "\n",
    "(https://xkcd.com/1987/)"
   ]
  },
  {
   "cell_type": "markdown",
   "metadata": {
    "slideshow": {
     "slide_type": "slide"
    }
   },
   "source": [
    "## Another way to look at the Python scientific ecosystem\n",
    "\n",
    "Complex (lots of abstractions)\n",
    "\n",
    "<br>\n",
    "<img src=\"assets/array-libraries-graph.png\" alt=\"array libraries graph\" width=400 />\n",
    "\n",
    "([Stephan Hoyer](https://gist.github.com/shoyer/7936a93843354299368145e8266c5d83))"
   ]
  },
  {
   "cell_type": "markdown",
   "metadata": {
    "slideshow": {
     "slide_type": "slide"
    }
   },
   "source": [
    "## How to deal with it? How to improve it?\n",
    "\n",
    "### Developers / Maintainers:\n",
    "\n",
    "- Towards some re-unification?\n",
    "  - Numpy was already the result of the unification of two array libraries\n",
    "  \n",
    "- Better integration between the libraries\n",
    "  \n",
    "- Better documentation (user guides!)\n",
    "\n",
    "- Provide support, teaching, lessons (Software Carpentry, CSDMS, etc)"
   ]
  },
  {
   "cell_type": "markdown",
   "metadata": {
    "slideshow": {
     "slide_type": "slide"
    }
   },
   "source": [
    "## How to deal with it? How to improve it?\n",
    "\n",
    "### Users:\n",
    "\n",
    "- There's no magic bullet\n",
    "  - Learning the ecosystem and using it at its full capacity takes time, effort and often gives frustration\n",
    "\n",
    "- Ask for help. Really!\n",
    "  - The community of developers in the Python scientific ecosystem is generally very friendly!\n",
    "  - New user? Not much experience with programming? That's perfectly fine, you're welcome!\n",
    "  - Please ask specific questions, though (minimal working example) \n",
    "  - Hopefully more and more support from research software engineers at various levels (research teams, institutes, eSience centers, international communities and networks like CSDMS or [RSE](https://researchsoftware.org/))\n",
    "  "
   ]
  },
  {
   "cell_type": "markdown",
   "metadata": {
    "slideshow": {
     "slide_type": "slide"
    }
   },
   "source": [
    "## How to deal with it? How to improve it?\n",
    "\n",
    "### User -> Contributor:\n",
    "\n",
    "- Start contributing to open-source libraries\n",
    "  - Very valuable, rewarding experience!\n",
    "  - You get mentoring from experienced developers\n",
    "  - Your contributions may have a great impact\n",
    "  - It takes time, too\n",
    "\n",
    "- Want to become a research software engineer?\n",
    "  - Hopefully there will be more and more opportunities"
   ]
  },
  {
   "cell_type": "markdown",
   "metadata": {
    "slideshow": {
     "slide_type": "slide"
    }
   },
   "source": [
    "## Thank you!\n",
    "\n",
    "<img src=\"assets/fastscape_background.jpg\" alt=\"\"/>\n",
    "\n",
    "Let's get in touch:\n",
    "\n",
    "- https://github.com/benbovy/\n",
    "- https://fastscape.org/"
   ]
  }
 ],
 "metadata": {
  "celltoolbar": "Slideshow",
  "kernelspec": {
   "display_name": "Python 3",
   "language": "python",
   "name": "python3"
  },
  "language_info": {
   "codemirror_mode": {
    "name": "ipython",
    "version": 3
   },
   "file_extension": ".py",
   "mimetype": "text/x-python",
   "name": "python",
   "nbconvert_exporter": "python",
   "pygments_lexer": "ipython3",
   "version": "3.8.10"
  },
  "rise": {
   "theme": "simple",
   "transition": "none"
  }
 },
 "nbformat": 4,
 "nbformat_minor": 4
}
